{
 "cells": [
  {
   "cell_type": "markdown",
   "metadata": {},
   "source": [
    "# Examples on Using PyModPDE\n",
    "---\n",
    "__Mokbel Karam, James C. Sutherland and Tony Saad__\n",
    "\n",
    "__Department of Chemical Engineering, University of Utah__\n",
    "\n",
    "Below are the necessary libraries used in the examples below."
   ]
  },
  {
   "cell_type": "code",
   "execution_count": 1,
   "metadata": {
    "init_cell": true
   },
   "outputs": [],
   "source": [
    "import matplotlib.pyplot as plt\n",
    "plt.rc(\"font\", family='serif')\n",
    "import numpy as np\n",
    "from matplotlib import cm, animation"
   ]
  },
  {
   "cell_type": "markdown",
   "metadata": {},
   "source": [
    "##  Example Using FTUS on Advection PDE (1D)\n",
    "---"
   ]
  },
  {
   "cell_type": "markdown",
   "metadata": {},
   "source": [
    "Consider the following PDE\n",
    "\\begin{equation}\n",
    "u_t=-a u_x ; a>0\n",
    "\\end{equation}\n",
    "to be solved using forward Euler discretization in time and upwind discretization in space(FTUS). The difference equation is\n",
    "\\begin{equation}\n",
    "\\frac{u_{i}^{n+1}-u_{i}^{n}}{\\Delta t}=-a\\left(\\frac{u_{i}^{n}-u_{i-1}^{n}}{\\Delta x}\\right).\n",
    "\\end{equation}"
   ]
  },
  {
   "cell_type": "code",
   "execution_count": 2,
   "metadata": {
    "init_cell": true,
    "scrolled": false
   },
   "outputs": [],
   "source": [
    "from pymodpde import DifferentialEquation, symbols, i, k, n # import the differential equation and the indicies we need to use\n",
    "\n",
    "a= symbols('a') # define positive a constant for the advection velocity\n",
    "\n",
    "DE1 = DifferentialEquation(dependentVarName='u',independentVarsNames=['x']) # construct a one D differential equation with 'x' and 'u' as independent and dependent variables, respectively\n",
    "\n",
    "# method I of constructing the rhs:\n",
    "# construct the first upwind derivative of the dependent variabe 'u' \n",
    "# with respect to the independent variable 'x' using the stencil -1, and 0 evaluated at time tn = n\n",
    "advectionTerm1 = DE1.expr(order=1, directionName='x', time=n, stencil=[-1, 0])\n",
    "                                                                        \n",
    "\n",
    "# set the rhs of the differential equation\n",
    "DE1.set_rhs(- a * advectionTerm1 )\n",
    "\n",
    "# compute the modified equation up to two terms\n",
    "\n",
    "DE1.generate_modified_equation(nterms=4)"
   ]
  },
  {
   "cell_type": "code",
   "execution_count": 3,
   "metadata": {},
   "outputs": [
    {
     "data": {
      "text/latex": [
       "$\\displaystyle \\frac{\\partial u }{\\partial t}  =  - a \\frac{\\partial u }{\\partial x}  + \\frac{a \\left(- \\Delta{t} a + \\Delta{x}\\right)}{2} \\frac{\\partial^{2} u }{\\partial x^{2}}  + \\frac{a \\left(- 2 \\Delta{t}^{2} a^{2} + 3 \\Delta{t} \\Delta{x} a - \\Delta{x}^{2}\\right)}{6} \\frac{\\partial^{3} u }{\\partial x^{3}}  + \\frac{a \\left(- 6 \\Delta{t}^{3} a^{3} + 12 \\Delta{t}^{2} \\Delta{x} a^{2} - 7 \\Delta{t} \\Delta{x}^{2} a + \\Delta{x}^{3}\\right)}{24} \\frac{\\partial^{4} u }{\\partial x^{4}} $"
      ],
      "text/plain": [
       "<IPython.core.display.Math object>"
      ]
     },
     "metadata": {},
     "output_type": "display_data"
    }
   ],
   "source": [
    "# display the mofified equation\n",
    "DE1.display_modified_equation()"
   ]
  },
  {
   "cell_type": "code",
   "execution_count": 4,
   "metadata": {
    "scrolled": true
   },
   "outputs": [
    {
     "data": {
      "text/latex": [
       "$\\displaystyle e^{\\Delta{t} \\alpha} = - \\frac{\\Delta{t} a}{\\Delta{x}} + \\frac{\\Delta{t} a e^{- i \\Delta{x} k_{1}}}{\\Delta{x}} + 1.0$"
      ],
      "text/plain": [
       "<IPython.core.display.Math object>"
      ]
     },
     "metadata": {},
     "output_type": "display_data"
    }
   ],
   "source": [
    "# display the amplification factor\n",
    "DE1.display_amp_factor()"
   ]
  },
  {
   "cell_type": "code",
   "execution_count": 5,
   "metadata": {
    "scrolled": true
   },
   "outputs": [
    {
     "name": "stdout",
     "output_type": "stream",
     "text": [
      "\\frac{\\partial u }{\\partial t}  =  - a \\frac{\\partial u }{\\partial x}  + \\frac{a \\left(- \\Delta{t} a + \\Delta{x}\\right)}{2} \\frac{\\partial^{2} u }{\\partial x^{2}}  + \\frac{a \\left(- 2 \\Delta{t}^{2} a^{2} + 3 \\Delta{t} \\Delta{x} a - \\Delta{x}^{2}\\right)}{6} \\frac{\\partial^{3} u }{\\partial x^{3}}  + \\frac{a \\left(- 6 \\Delta{t}^{3} a^{3} + 12 \\Delta{t}^{2} \\Delta{x} a^{2} - 7 \\Delta{t} \\Delta{x}^{2} a + \\Delta{x}^{3}\\right)}{24} \\frac{\\partial^{4} u }{\\partial x^{4}} \n"
     ]
    }
   ],
   "source": [
    "# print the latex form of the generate_modified_equation\n",
    "print(DE1.latex_modified_equation())"
   ]
  },
  {
   "cell_type": "code",
   "execution_count": 6,
   "metadata": {},
   "outputs": [
    {
     "name": "stdout",
     "output_type": "stream",
     "text": [
      "e^{\\Delta{t} \\alpha} = - \\frac{\\Delta{t} a}{\\Delta{x}} + \\frac{\\Delta{t} a e^{- i \\Delta{x} k_{1}}}{\\Delta{x}} + 1.0\n"
     ]
    }
   ],
   "source": [
    "# print the latex form of the amplification factor\n",
    "print(DE1.latex_amp_factor())"
   ]
  },
  {
   "cell_type": "markdown",
   "metadata": {},
   "source": [
    "Using the second method for constructing the rhs"
   ]
  },
  {
   "cell_type": "code",
   "execution_count": 7,
   "metadata": {},
   "outputs": [],
   "source": [
    "from pymodpde import DifferentialEquation, symbols, j, n # import the differential equation and the indicies we need to use\n",
    "\n",
    "b = symbols('b') # define positive a constant for the advection velocity\n",
    "\n",
    "DE2 = DifferentialEquation(dependentVarName='f',independentVarsNames=['y'], indices=[j])# construct the first upwind derivative of the dependent variabe 'f' \n",
    "                                                                        # with respect to the independent variable 'y' using the stencil -1, and 0 evaluated at time tn = n\n",
    "    \n",
    "\n",
    "# method II of constructing the rhs:\n",
    "advectionTerm2 = (DE2.f(time=n, y=j) - DE2.f(time=n, y = j-1)) / DE2.dy \n",
    "    \n",
    "DE2.set_rhs(- b * advectionTerm2 ) # set the rhs of the Differential equation DE\n",
    "\n",
    "DE2.generate_amp_factor() # computing the amplification factor"
   ]
  },
  {
   "cell_type": "code",
   "execution_count": 8,
   "metadata": {},
   "outputs": [
    {
     "data": {
      "text/latex": [
       "$\\displaystyle e^{\\Delta{t} \\alpha} = - \\frac{\\Delta{t} b}{\\Delta{y}} + \\frac{\\Delta{t} b e^{- i \\Delta{y} k_{1}}}{\\Delta{y}} + 1.0$"
      ],
      "text/plain": [
       "<IPython.core.display.Math object>"
      ]
     },
     "metadata": {},
     "output_type": "display_data"
    }
   ],
   "source": [
    "# display the amplification factor\n",
    "DE2.display_amp_factor()"
   ]
  },
  {
   "cell_type": "markdown",
   "metadata": {},
   "source": [
    "The difference equation for Backward in time and Upwind in space is\n",
    "\\begin{equation}\n",
    "\\frac{u_{i}^{n+1}-u_{i}^{n}}{\\Delta t}=-a\\left(\\frac{u_{i}^{n+1}-u_{i-1}^{n+1}}{\\Delta x}\\right).\n",
    "\\end{equation}"
   ]
  },
  {
   "cell_type": "code",
   "execution_count": 9,
   "metadata": {},
   "outputs": [],
   "source": [
    "from pymodpde import DifferentialEquation, symbols\n",
    "\n",
    "# define the advection velocity\n",
    "a= symbols(\"a\")\n",
    "# define the spatial and temporal indices\n",
    "i, n = symbols(\"i n\")\n",
    "\n",
    "# construct a time dependent differential equation\n",
    "DE = DifferentialEquation(dependentVarName=\"u\",independentVarsNames=[\"x\"], indices=[i], timeIndex=n)\n",
    "\n",
    "# method I of constructing the rhs:\n",
    "advectionTerm = -a * DE.expr(order=1, directionName=\"x\", time=n+1,stencil=[-1, 0])\n",
    "\n",
    "# setting the rhs of the differential equation\n",
    "DE.set_rhs( advectionTerm )\n",
    "\n",
    "# computing and displaying the modified equation up to two terms\n",
    "DE.generate_modified_equation(nterms=2)"
   ]
  },
  {
   "cell_type": "code",
   "execution_count": 10,
   "metadata": {},
   "outputs": [
    {
     "data": {
      "text/latex": [
       "$\\displaystyle \\frac{\\partial u }{\\partial t}  =  - a \\frac{\\partial u }{\\partial x}  + \\frac{a \\left(\\Delta{t} a + \\Delta{x}\\right)}{2} \\frac{\\partial^{2} u }{\\partial x^{2}} $"
      ],
      "text/plain": [
       "<IPython.core.display.Math object>"
      ]
     },
     "metadata": {},
     "output_type": "display_data"
    }
   ],
   "source": [
    "# display the mofified equation\n",
    "DE.display_modified_equation()"
   ]
  },
  {
   "cell_type": "code",
   "execution_count": 11,
   "metadata": {},
   "outputs": [
    {
     "data": {
      "text/latex": [
       "$\\displaystyle e^{\\Delta{t} \\alpha} = \\frac{\\Delta{x} e^{i \\Delta{x} k_{1}}}{\\Delta{t} a e^{i \\Delta{x} k_{1}} - \\Delta{t} a + \\Delta{x} e^{i \\Delta{x} k_{1}}}$"
      ],
      "text/plain": [
       "<IPython.core.display.Math object>"
      ]
     },
     "metadata": {},
     "output_type": "display_data"
    }
   ],
   "source": [
    "# display the amplification factor\n",
    "DE.display_amp_factor()"
   ]
  },
  {
   "cell_type": "markdown",
   "metadata": {},
   "source": [
    "## Example Using BTCS on Advection-Diffusion PDEs (1D)\n",
    "---"
   ]
  },
  {
   "cell_type": "markdown",
   "metadata": {},
   "source": [
    "Consider the following PDE\n",
    "\\begin{equation}\n",
    "u_t=-cu_x+\\gamma u_{xx}\n",
    "\\end{equation} \n",
    "to be solved using backward Euler discretization in time and central discretization in space(BTCS). The difference equation is\n",
    "$$\n",
    "\\frac{u_{i}^{n+1}-u_{i}^{n}}{\\Delta t}=-c\\left(\\frac{u_{i+1}^{n+1}-u_{i-1}^{n+1}}{2\\Delta x}\\right)+ \\gamma \\left(\\frac{u_{i+1}^{n+1}-2u_i^{n+1}+u_{i-1}^{n+1}}{\\Delta x^2}\\right).\n",
    "$$"
   ]
  },
  {
   "cell_type": "code",
   "execution_count": 12,
   "metadata": {
    "init_cell": true,
    "scrolled": false
   },
   "outputs": [],
   "source": [
    "from pymodpde import DifferentialEquation, symbols, i, n # import the differential equation and the indicies we need to use\n",
    "\n",
    "c, g = symbols('c gamma') # define positive a constant for the advection velocity\n",
    "\n",
    "DE3 = DifferentialEquation(dependentVarName='u',independentVarsNames=['x'], indices=[i])# construct the first upwind derivative of the dependent variabe 'f' \n",
    "                                                                        # with respect to the independent variable 'y' using the stencil -1, and 0 evaluated at time tn = n\n",
    "    \n",
    "\n",
    "# method II of constructing the rhs:\n",
    "advectionTerm3 = (DE3.u(time=n+1, x=i+1) - DE3.u(time=n+1, x=i-1)) / DE3.dx /2\n",
    "\n",
    "diffusionTerm3 = (DE3.u(time=n+1, x=i+1) - 2* DE3.u(time=n+1, x=i) + DE3.u(time=n+1, x=i-1)) / DE3.dx / DE3.dx\n",
    "    \n",
    "DE3.set_rhs(- c * advectionTerm3  ) # set the rhs of the Differential equation DE\n",
    "\n",
    "DE3.generate_modified_equation(nterms=3)  # compute the modified equation up to 2 terms and display the latex form of the modified equation"
   ]
  },
  {
   "cell_type": "code",
   "execution_count": 13,
   "metadata": {},
   "outputs": [
    {
     "data": {
      "text/latex": [
       "$\\displaystyle \\frac{\\partial u }{\\partial t}  =  - c \\frac{\\partial u }{\\partial x}  + \\frac{\\Delta{t} c^{2}}{2} \\frac{\\partial^{2} u }{\\partial x^{2}}  - \\frac{c \\left(2 \\Delta{t}^{2} c^{2} + \\Delta{x}^{2}\\right)}{6} \\frac{\\partial^{3} u }{\\partial x^{3}} $"
      ],
      "text/plain": [
       "<IPython.core.display.Math object>"
      ]
     },
     "metadata": {},
     "output_type": "display_data"
    }
   ],
   "source": [
    "# display the mofified equation\n",
    "DE3.display_modified_equation()"
   ]
  },
  {
   "cell_type": "code",
   "execution_count": 14,
   "metadata": {},
   "outputs": [
    {
     "data": {
      "text/latex": [
       "$\\displaystyle e^{\\Delta{t} \\alpha} = \\frac{2.0 \\Delta{x} e^{i \\Delta{x} k_{1}}}{\\Delta{t} c e^{2.0 i \\Delta{x} k_{1}} - \\Delta{t} c + 2.0 \\Delta{x} e^{i \\Delta{x} k_{1}}}$"
      ],
      "text/plain": [
       "<IPython.core.display.Math object>"
      ]
     },
     "metadata": {},
     "output_type": "display_data"
    }
   ],
   "source": [
    "# display the amplification factor\n",
    "DE3.display_amp_factor()"
   ]
  },
  {
   "cell_type": "markdown",
   "metadata": {},
   "source": [
    "## Example Using FTUS on Advection PDEs (2D)\n",
    "---"
   ]
  },
  {
   "cell_type": "markdown",
   "metadata": {},
   "source": [
    "Consider the advection equation in a two dimensional space\n",
    "\\begin{equation}\n",
    "u_{t}=-bu_{x}-cu_{y};\\quad(b,c)\\in\\mathbb{R}^{+}\n",
    "\\end{equation}\n",
    "to be discretized using a forward Euler method in time and UPWIND in space (FTUS)\n",
    "\\begin{equation}\n",
    "\\frac{u_{i,j}^{n+1}-u_{i,j}^{n}}{\\Delta t}=-b\\frac{u_{i,j}^{n}-u_{i-1,j}^{n}}{\\Delta x}-c\\frac{u_{i,j}^{n}-u_{i,j-1}^{n}}{\\Delta y},\n",
    "\\end{equation}"
   ]
  },
  {
   "cell_type": "markdown",
   "metadata": {},
   "source": [
    "with a modified equation "
   ]
  },
  {
   "cell_type": "code",
   "execution_count": 15,
   "metadata": {
    "init_cell": true
   },
   "outputs": [],
   "source": [
    "from pymodpde import DifferentialEquation, symbols, i, j, n # import the differential equation and the indicies we need to use\n",
    "\n",
    "b, c= symbols('b c') # define positive a constant for the advection velocity\n",
    "\n",
    "DE1 = DifferentialEquation(dependentVarName='u',independentVarsNames=['x','y']) # construct a one D differential equation with 'x' and 'u' as independent and dependent variables, respectively\n",
    "\n",
    "# method II of constructing the rhs:\n",
    "advectionTerm1 = (DE1.u(time=n, x=i, y=j) - DE1.u(time=n, x=i-1, y=j))/DE1.dx\n",
    "\n",
    "advectionTerm2 = (DE1.u(time=n, x=i, y=j) - DE1.u(time=n, x=i, y=j-1))/DE1.dy\n",
    "\n",
    "# set the rhs of the differential equation\n",
    "DE1.set_rhs( -b * advectionTerm1 - c * advectionTerm2 )\n",
    "\n",
    "# compute and the modified equation up to two terms\n",
    "DE1.generate_modified_equation(nterms=2)"
   ]
  },
  {
   "cell_type": "code",
   "execution_count": 16,
   "metadata": {},
   "outputs": [
    {
     "data": {
      "text/latex": [
       "$\\displaystyle \\frac{\\partial u }{\\partial t}  =  - c \\frac{\\partial u }{\\partial y}  - b \\frac{\\partial u }{\\partial x}  + \\frac{c \\left(- \\Delta{t} c + \\Delta{y}\\right)}{2} \\frac{\\partial^{2} u }{\\partial y^{2}}  - \\Delta{t} b c \\frac{\\partial^{2} u }{\\partial y\\partial x}  + \\frac{b \\left(- \\Delta{t} b + \\Delta{x}\\right)}{2} \\frac{\\partial^{2} u }{\\partial x^{2}} $"
      ],
      "text/plain": [
       "<IPython.core.display.Math object>"
      ]
     },
     "metadata": {},
     "output_type": "display_data"
    }
   ],
   "source": [
    "# display the mofified equation\n",
    "DE1.display_modified_equation()"
   ]
  },
  {
   "cell_type": "code",
   "execution_count": 17,
   "metadata": {},
   "outputs": [
    {
     "data": {
      "text/latex": [
       "$\\displaystyle e^{\\Delta{t} \\alpha} = - \\frac{\\Delta{t} c}{\\Delta{y}} + \\frac{\\Delta{t} c e^{- i \\Delta{y} k_{2}}}{\\Delta{y}} - \\frac{\\Delta{t} b}{\\Delta{x}} + \\frac{\\Delta{t} b e^{- i \\Delta{x} k_{1}}}{\\Delta{x}} + 1.0$"
      ],
      "text/plain": [
       "<IPython.core.display.Math object>"
      ]
     },
     "metadata": {},
     "output_type": "display_data"
    }
   ],
   "source": [
    "# display the amplification factor\n",
    "DE1.display_amp_factor()"
   ]
  },
  {
   "cell_type": "markdown",
   "metadata": {},
   "source": [
    "### Numerical Solution"
   ]
  },
  {
   "cell_type": "code",
   "execution_count": 18,
   "metadata": {
    "init_cell": true
   },
   "outputs": [],
   "source": [
    "nx = 64\n",
    "ny = 64\n",
    "Lx = 1.0\n",
    "Ly = 1.0\n",
    "x = np.linspace(0,Lx,nx)\n",
    "y = np.linspace(0,Ly,ny)\n",
    "dx = Lx/(nx-1)\n",
    "dy = Ly/(ny-1)\n",
    "# create a grid of coordinates\n",
    "xx,yy = np.meshgrid(x,y)\n",
    "\n",
    "u0 = lambda x,y : np.exp(-(x-0.2)**2/0.01)*np.exp(-(y-0.2)**2/0.01)\n",
    "\n",
    "cx = 1.0\n",
    "cy = 1.0\n",
    "\n",
    "dt = 1/128\n",
    "tend = 0.5 #s\n",
    "t = 0\n",
    "\n",
    "cflx = cx * dt/dx\n",
    "cfly = cy * dt/dy\n",
    "\n",
    "# setup the initial condition\n",
    "sol = []\n",
    "u = np.zeros([ny+2,nx+2]) # we will ghost cells to simplify the implementation of periodic BCs\n",
    "u[1:-1, 1:-1] = u0(xx,yy)\n",
    "# set periodic boundaries\n",
    "u[:,0] = u[:,-3] #x-minus face\n",
    "u[:,-1] = u[:,2] #x-plus face\n",
    "u[0,:] = u[-3,:] #y-minus face\n",
    "u[-1,:] = u[2,:] #y-plus face\n",
    "sol.append(u)"
   ]
  },
  {
   "cell_type": "code",
   "execution_count": 19,
   "metadata": {
    "init_cell": true
   },
   "outputs": [],
   "source": [
    "while t < tend:\n",
    "    un = sol[-1]\n",
    "    unew = un.copy()\n",
    "    unew[1:-1,1:-1] = un[1:-1,1:-1] - cflx * (un[1:-1,1:-1] - un[1:-1,:-2]) - cfly * (un[1:-1,1:-1] - un[:-2,1:-1])\n",
    "    # set periodic boundaries\n",
    "    unew[:,0] = unew[:,-3] #x-minus face\n",
    "    unew[:,-1] = unew[:,2] #x-plus face\n",
    "    unew[0,:] = unew[-3,:] #y-minus face\n",
    "    unew[-1,:] = unew[2,:] #y-plus face\n",
    "\n",
    "    sol.append(unew)\n",
    "    t += dt"
   ]
  },
  {
   "cell_type": "code",
   "execution_count": 20,
   "metadata": {
    "init_cell": true,
    "scrolled": false
   },
   "outputs": [
    {
     "data": {
      "image/png": "[encoded data removed]",
      "text/plain": [
       "<matplotlib.figure.Figure at 0x7ff648d7e128>"
      ]
     },
     "metadata": {
      "needs_background": "light"
     },
     "output_type": "display_data"
    }
   ],
   "source": [
    "levs = np.linspace(0,1,15)\n",
    "plt.figure(figsize=(10,8))\n",
    "plt.contourf(xx,yy,sol[-1][1:-1,1:-1]+sol[0][1:-1,1:-1],cmap=cm.viridis,levels=levs,vmax=1.0,vmin=0)\n",
    "plt.text(0.1, 0.4, 'time=0.0s', fontsize=12,family='serif')\n",
    "plt.text(0.6, 0.92,'time={}s'.format(tend), fontsize=12,family='serif')\n",
    "plt.xlabel('x', fontsize=14,family='serif')\n",
    "plt.ylabel('y', fontsize=14,family='serif')\n",
    "cbar = plt.colorbar()\n",
    "plt.clim(-1,1)\n",
    "cbar.set_ticks(np.linspace(-1,1,5))\n",
    "plt.savefig('./advection_2d.pdf',transparent=True)\n",
    "plt.show()"
   ]
  },
  {
   "cell_type": "markdown",
   "metadata": {},
   "source": [
    "## Numerical Solver\n",
    "---"
   ]
  },
  {
   "cell_type": "code",
   "execution_count": 21,
   "metadata": {
    "init_cell": true,
    "scrolled": false
   },
   "outputs": [
    {
     "data": {
      "application/vnd.jupyter.widget-view+json": {
       "model_id": "7f2d5c8f82d342a787e28eb65f9d630e",
       "version_major": 2,
       "version_minor": 0
      },
      "text/plain": [
       "Tab(children=(VBox(children=(HBox(children=(FloatText(value=0.01, description='dt:'), FloatText(value=10.0, de…"
      ]
     },
     "metadata": {},
     "output_type": "display_data"
    }
   ],
   "source": [
    "%matplotlib notebook\n",
    "from numerical.layout import *\n",
    "plty=PlotStyling()"
   ]
  },
  {
   "cell_type": "code",
   "execution_count": null,
   "metadata": {},
   "outputs": [],
   "source": []
  }
 ],
 "metadata": {
  "kernelspec": {
   "display_name": "Python 3",
   "language": "python",
   "name": "python3"
  },
  "language_info": {
   "codemirror_mode": {
    "name": "ipython",
    "version": 3
   },
   "file_extension": ".py",
   "mimetype": "text/x-python",
   "name": "python",
   "nbconvert_exporter": "python",
   "pygments_lexer": "ipython3",
   "version": "3.6.13"
  },
  "toc": {
   "colors": {
    "hover_highlight": "#DAA520",
    "navigate_num": "#000000",
    "navigate_text": "#333333",
    "running_highlight": "#FF0000",
    "selected_highlight": "#FFD700",
    "sidebar_border": "#EEEEEE",
    "wrapper_background": "#FFFFFF"
   },
   "moveMenuLeft": true,
   "nav_menu": {
    "height": "63px",
    "width": "252px"
   },
   "navigate_menu": true,
   "number_sections": true,
   "sideBar": true,
   "threshold": 4,
   "toc_cell": false,
   "toc_section_display": "block",
   "toc_window_display": false,
   "widenNotebook": false
  },
  "varInspector": {
   "cols": {
    "lenName": 16,
    "lenType": 16,
    "lenVar": 40
   },
   "kernels_config": {
    "python": {
     "delete_cmd_postfix": "",
     "delete_cmd_prefix": "del ",
     "library": "var_list.py",
     "varRefreshCmd": "print(var_dic_list())"
    },
    "r": {
     "delete_cmd_postfix": ") ",
     "delete_cmd_prefix": "rm(",
     "library": "var_list.r",
     "varRefreshCmd": "cat(var_dic_list()) "
    }
   },
   "types_to_exclude": [
    "module",
    "function",
    "builtin_function_or_method",
    "instance",
    "_Feature"
   ],
   "window_display": false
  }
 },
 "nbformat": 4,
 "nbformat_minor": 2
}
